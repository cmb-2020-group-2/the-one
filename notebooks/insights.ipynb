{
 "cells": [
  {
   "cell_type": "markdown",
   "metadata": {},
   "source": [
    "# Insights"
   ]
  },
  {
   "cell_type": "code",
   "execution_count": 1,
   "metadata": {},
   "outputs": [
    {
     "name": "stdout",
     "output_type": "stream",
     "text": [
      "../reports/Assignment-1/seed0_ContactsPerHourReport.txt\n",
      "../reports/Assignment-1/seed0_CovidStatsReport.txt\n",
      "../reports/Assignment-1/seed0_CovidTransmissionReport.txt\n",
      "../reports/Assignment-1/seed0_EncountersVSUniqueEncountersReport.txt\n",
      "../reports/Assignment-1/seed0_MessageGraphvizReport.txt\n",
      "../reports/Assignment-1/seed0_NodeDensityReport.txt\n",
      "../reports/Assignment-1/seed0_TotalContactTimeReport.txt\n"
     ]
    }
   ],
   "source": [
    "# Report Types\n",
    "!ls ../reports/Assignment-1/seed0*.txt"
   ]
  },
  {
   "cell_type": "code",
   "execution_count": 2,
   "metadata": {},
   "outputs": [],
   "source": [
    "import numpy as np\n",
    "import pandas as pd\n",
    "import matplotlib.pyplot as plt\n",
    "\n",
    "%matplotlib inline\n",
    "\n",
    "plt.rcParams.update({\n",
    "    'font.size': 16,\n",
    "    'figure.figsize': [12, 8]\n",
    "})\n",
    "\n",
    "SEED_NUM = 10\n",
    "MASK_TYPES = {\n",
    "    \"B\": 13, \n",
    "    \"M\": 33, \n",
    "    \"N\": 20\n",
    "}\n",
    "MASK_NAMES = {\n",
    "    \"B\": \"Bare (no mask)\",\n",
    "    \"M\": \"Surgical Mask\",\n",
    "    \"N\": \"N95 Mask\"\n",
    "}"
   ]
  },
  {
   "cell_type": "markdown",
   "metadata": {},
   "source": [
    "## CovidTransmissionReport"
   ]
  },
  {
   "cell_type": "code",
   "execution_count": 3,
   "metadata": {},
   "outputs": [],
   "source": [
    "ct_dfs = []\n",
    "\n",
    "for i in range(SEED_NUM):\n",
    "     ct_dfs.append(pd.read_csv(f\"../reports/Assignment-1/seed{i}_CovidTransmissionReport.txt\", sep=\"|\"))"
   ]
  },
  {
   "cell_type": "markdown",
   "metadata": {},
   "source": [
    "### How long does a virus travel?"
   ]
  },
  {
   "cell_type": "code",
   "execution_count": 4,
   "metadata": {},
   "outputs": [
    {
     "name": "stdout",
     "output_type": "stream",
     "text": [
      "Max infected people from the same source: 13.3\n",
      "Min infected people from the same source: 2.4\n"
     ]
    }
   ],
   "source": [
    "unique_transmission_max = []\n",
    "unique_transmission_min = []\n",
    "\n",
    "for df in ct_dfs:\n",
    "    unique_transmission_max.append(df.message_id.value_counts().max())\n",
    "    unique_transmission_min.append(df.message_id.value_counts().min())\n",
    "    \n",
    "print(f\"Max infected people from the same source: {np.mean(unique_transmission_max)}\")\n",
    "print(f\"Min infected people from the same source: {np.mean(unique_transmission_min)}\")"
   ]
  },
  {
   "cell_type": "markdown",
   "metadata": {},
   "source": [
    "### Transmission Percentages over Mask Types"
   ]
  },
  {
   "cell_type": "code",
   "execution_count": 5,
   "metadata": {},
   "outputs": [
    {
     "name": "stdout",
     "output_type": "stream",
     "text": [
      "Bare (no mask) \t - transmitted ratio: \t 100.00%\n",
      "Surgical Mask \t - transmitted ratio: \t 26.36%\n",
      "N95 Mask \t - transmitted ratio: \t 12.00%\n"
     ]
    }
   ],
   "source": [
    "mask_stats = {m: [] for m in MASK_TYPES.keys()}\n",
    "\n",
    "for df in ct_dfs:\n",
    "    ms, cts = np.unique([\n",
    "        p[1] for p in np.unique(df['from'].values.tolist() + df['to'].values.tolist()) if p[0] in [\"M\", \"S\"]\n",
    "    ], return_counts=True)\n",
    "\n",
    "    transmitted_people = {m: ct for m, ct in zip(ms, cts)}\n",
    "\n",
    "    for k in MASK_TYPES.keys():\n",
    "        mask_stats[k].append(transmitted_people[k] / MASK_TYPES[k])\n",
    "        \n",
    "for k, v in mask_stats.items():\n",
    "    print(f\"{MASK_NAMES[k]} \\t - transmitted ratio: \\t {np.mean(v)*100:.2f}%\")"
   ]
  },
  {
   "cell_type": "markdown",
   "metadata": {},
   "source": [
    "### Transmission Percentages over Student Types"
   ]
  },
  {
   "cell_type": "code",
   "execution_count": 5,
   "metadata": {},
   "outputs": [
    {
     "name": "stdout",
     "output_type": "stream",
     "text": [
      "Bare (no mask) \t - transmitted ratio: \t 100.00%\n",
      "Surgical Mask \t - transmitted ratio: \t 26.36%\n",
      "N95 Mask \t - transmitted ratio: \t 12.00%\n"
     ]
    }
   ],
   "source": [
    "student_stats = {s: [] for s in [\"S2M\", \"M2M\", \"M2S\", \"S2S\"]}\n",
    "\n",
    "for df in ct_dfs:\n",
    "    df[\"btween_students\"] = df.apply(lambda x: f\"{x['from'][0]}2{x['to'][0]}\")\n",
    "    ss, cts = np.unique(df[\"btween_students\"], return_counts=True)\n",
    "\n",
    "    transmitted_people = {m: ct for m, ct in zip(ms, cts)}\n",
    "\n",
    "    for k in MASK_TYPES.keys():\n",
    "        mask_stats[k].append(transmitted_people[k] / MASK_TYPES[k])\n",
    "        \n",
    "for k, v in mask_stats.items():\n",
    "    print(f\"{MASK_NAMES[k]} \\t - transmitted ratio: \\t {np.mean(v)*100:.2f}%\")"
   ]
  },
  {
   "cell_type": "markdown",
   "metadata": {},
   "source": [
    "### COVID-19 Transmission over Time"
   ]
  },
  {
   "cell_type": "code",
   "execution_count": 12,
   "metadata": {},
   "outputs": [],
   "source": [
    "# global_day_info = {i: np.zeros(SEED_NUM) for i in range(1, 8)}\n",
    "\n",
    "# for i, df in enumerate(ct_dfs):\n",
    "#     df['days'] = df.creation_time.apply(lambda x: x // 86400 + 1) # 1 day 86400 seconds\n",
    "\n",
    "#     day_info = np.unique(df.days.values, return_counts=True)\n",
    "    \n",
    "# #     print(day_info)\n",
    "\n",
    "#     for k, v in zip(day_info[0], day_info[1]):\n",
    "#         global_day_info[k][i] = v\n",
    "    \n",
    "# global_day_info = [np.mean(global_day_info[i]) for i in range(1, 8)]\n",
    "    \n",
    "# plt.title(\"COVID-19 Transmission over Time\")\n",
    "# plt.xlabel('day')\n",
    "# plt.ylabel('# COVID-19 Transmission')\n",
    "\n",
    "\n",
    "# plt.plot(global_day_info)\n",
    "# plt.show()"
   ]
  },
  {
   "cell_type": "markdown",
   "metadata": {},
   "source": [
    "### Section Pie Chart"
   ]
  },
  {
   "cell_type": "code",
   "execution_count": 16,
   "metadata": {},
   "outputs": [
    {
     "data": {
      "image/png": "[encoded data removed]",
      "text/plain": [
       "<Figure size 864x576 with 1 Axes>"
      ]
     },
     "metadata": {},
     "output_type": "display_data"
    }
   ],
   "source": [
    "section_stats = {s: [] for s in [\"U-Bahn\", \"Table\", \"Class\", \"Cigarette Spot\", \"Walking Areas\"]}\n",
    "\n",
    "for df in ct_dfs:\n",
    "    df['section_new'] = df.section.apply(lambda x: ''.join([i for i in x if not i.isdigit()]))\n",
    "\n",
    "    section_info = np.unique(df.section_new.values, return_counts=True)\n",
    "    \n",
    "    for k, v in zip(section_info[0], section_info[1]):\n",
    "        section_stats[k.strip()].append(v)\n",
    "\n",
    "section_stats = {k: np.mean(v) for k, v in section_stats.items()}\n",
    "\n",
    "new_section_stats = {}\n",
    "for k, v in section_stats.items():\n",
    "    if k == \"Walking Areas\":\n",
    "        new_section_stats[\"Social Areas\"] = v\n",
    "        continue\n",
    "    \n",
    "    new_section_stats[k] = v\n",
    "\n",
    "section_stats = new_section_stats\n",
    "\n",
    "plt.title(\"Percentages of Section for Transmissions\")\n",
    "plt.pie(section_stats.values(), labels=section_stats.keys(), autopct='%.2f')\n",
    "plt.show()"
   ]
  },
  {
   "cell_type": "markdown",
   "metadata": {},
   "source": [
    "## EncountersVSUniqueEncountersReport"
   ]
  },
  {
   "cell_type": "code",
   "execution_count": 26,
   "metadata": {},
   "outputs": [
    {
     "name": "stdout",
     "output_type": "stream",
     "text": [
      "Min # of close contacts per person:\t 89.00 times\n",
      "Mean # of close contacts per person:\t 331.80 times\n",
      "Max # of close contacts per person:\t 740.00 times\n"
     ]
    },
    {
     "data": {
      "text/plain": [
       "<AxesSubplot:>"
      ]
     },
     "execution_count": 26,
     "metadata": {},
     "output_type": "execute_result"
    },
    {
     "data": {
      "image/png": "[encoded data removed]",
      "text/plain": [
       "<Figure size 864x576 with 1 Axes>"
      ]
     },
     "metadata": {
      "needs_background": "light"
     },
     "output_type": "display_data"
    }
   ],
   "source": [
    "e_dfs = []\n",
    "\n",
    "for i in range(SEED_NUM):\n",
    "    df = pd.read_csv(f\"../reports/Assignment-1/seed{i}_EncountersVSUniqueEncountersReport.txt\", sep=\"\\t\", header=None)\n",
    "    df.columns = [\"node_id\", \"encounter\", \"_\"]\n",
    "    df = df[(df.encounter != 0) & (df[\"_\"] != 0)].reset_index(drop=True)\n",
    "    e_dfs.append(df)\n",
    "    \n",
    "all_dfs = pd.concat(e_dfs).reset_index(drop=True)\n",
    "\n",
    "print(f\"Min # of close contacts per person:\\t {np.min(all_dfs.encounter.values):.2f} times\")\n",
    "print(f\"Mean # of close contacts per person:\\t {np.mean(all_dfs.encounter.values):.2f} times\")\n",
    "print(f\"Max # of close contacts per person:\\t {np.max(all_dfs.encounter.values):.2f} times\")\n",
    "\n",
    "all_dfs.encounter.hist()"
   ]
  },
  {
   "cell_type": "markdown",
   "metadata": {},
   "source": [
    "### TotalContactTimeReport"
   ]
  },
  {
   "cell_type": "code",
   "execution_count": null,
   "metadata": {},
   "outputs": [],
   "source": [
    "tc_stats = []\n",
    "\n",
    "for i in range(SEED_NUM):\n",
    "    info = pd.read_csv(f\"../reports/Assignment-1/seed{i}_TotalContactTimeReport.txt\", sep=\" \", header=None, skiprows=1).iloc[-1].values\n",
    "    tc_stats.append(float(info[-1]) /  * float(info[0]))\n",
    "\n",
    "print(f\"The students contact time ratio {np.mean(tc_stats) * 100:.5f}%\")"
   ]
  }
 ],
 "metadata": {
  "kernelspec": {
   "display_name": "Python 3",
   "language": "python",
   "name": "python3"
  },
  "language_info": {
   "codemirror_mode": {
    "name": "ipython",
    "version": 3
   },
   "file_extension": ".py",
   "mimetype": "text/x-python",
   "name": "python",
   "nbconvert_exporter": "python",
   "pygments_lexer": "ipython3",
   "version": "3.8.3"
  }
 },
 "nbformat": 4,
 "nbformat_minor": 4
}
