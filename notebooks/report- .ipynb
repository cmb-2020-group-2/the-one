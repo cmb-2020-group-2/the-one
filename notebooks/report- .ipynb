{
 "cells": [
  {
   "cell_type": "code",
   "execution_count": 2,
   "metadata": {},
   "outputs": [
    {
     "name": "stdout",
     "output_type": "stream",
     "text": [
      "../reports/Assignment-1/seed0-avrg.png\n",
      "../reports/Assignment-1/seed0_ContactsPerHourReport.txt\n",
      "../reports/Assignment-1/seed0_CovidStatsReport.txt\n",
      "../reports/Assignment-1/seed0_CovidTransmissionReport.txt\n",
      "../reports/Assignment-1/seed0_EncountersVSUniqueEncountersReport.txt\n",
      "../reports/Assignment-1/seed0_MessageGraphvizReport.txt\n",
      "../reports/Assignment-1/seed0_NodeDensityReport.txt\n",
      "../reports/Assignment-1/seed0_TotalContactTimeReport.txt\n"
     ]
    }
   ],
   "source": [
    "!ls ../reports/Assignment-1/seed0*"
   ]
  },
  {
   "cell_type": "code",
   "execution_count": 4,
   "metadata": {},
   "outputs": [],
   "source": [
    "import pandas as pd"
   ]
  },
  {
   "cell_type": "code",
   "execution_count": 7,
   "metadata": {},
   "outputs": [],
   "source": [
    "df = pd.read_csv(\"../reports/Assignment-1/seed0_CovidTransmissionReport.txt\", sep=\"|\")"
   ]
  },
  {
   "cell_type": "code",
   "execution_count": 8,
   "metadata": {},
   "outputs": [
    {
     "data": {
      "text/html": [
       "<div>\n",
       "<style scoped>\n",
       "    .dataframe tbody tr th:only-of-type {\n",
       "        vertical-align: middle;\n",
       "    }\n",
       "\n",
       "    .dataframe tbody tr th {\n",
       "        vertical-align: top;\n",
       "    }\n",
       "\n",
       "    .dataframe thead th {\n",
       "        text-align: right;\n",
       "    }\n",
       "</style>\n",
       "<table border=\"1\" class=\"dataframe\">\n",
       "  <thead>\n",
       "    <tr style=\"text-align: right;\">\n",
       "      <th></th>\n",
       "      <th>message_id</th>\n",
       "      <th>from</th>\n",
       "      <th>to</th>\n",
       "      <th>creation_time</th>\n",
       "      <th>host_location</th>\n",
       "      <th>section</th>\n",
       "      <th>distance</th>\n",
       "    </tr>\n",
       "  </thead>\n",
       "  <tbody>\n",
       "    <tr>\n",
       "      <th>M1</th>\n",
       "      <td>NaN</td>\n",
       "      <td>SM1</td>\n",
       "      <td>0.0</td>\n",
       "      <td>(1555.00,0.00)</td>\n",
       "      <td>U-Bahn</td>\n",
       "      <td>NaN</td>\n",
       "      <td>NaN</td>\n",
       "    </tr>\n",
       "    <tr>\n",
       "      <th>M4</th>\n",
       "      <td>NaN</td>\n",
       "      <td>SN85</td>\n",
       "      <td>3.0</td>\n",
       "      <td>(1555.00,0.00)</td>\n",
       "      <td>U-Bahn</td>\n",
       "      <td>NaN</td>\n",
       "      <td>NaN</td>\n",
       "    </tr>\n",
       "    <tr>\n",
       "      <th>M6</th>\n",
       "      <td>NaN</td>\n",
       "      <td>MB38</td>\n",
       "      <td>5.0</td>\n",
       "      <td>(245.94,730.27)</td>\n",
       "      <td>Walking Areas</td>\n",
       "      <td>NaN</td>\n",
       "      <td>NaN</td>\n",
       "    </tr>\n",
       "    <tr>\n",
       "      <th>M6</th>\n",
       "      <td>MB38</td>\n",
       "      <td>MB35</td>\n",
       "      <td>37070.1</td>\n",
       "      <td>(1036.26,803.70)</td>\n",
       "      <td>Walking Areas</td>\n",
       "      <td>819.321574</td>\n",
       "      <td>NaN</td>\n",
       "    </tr>\n",
       "    <tr>\n",
       "      <th>M6</th>\n",
       "      <td>MB38</td>\n",
       "      <td>SB27</td>\n",
       "      <td>39044.6</td>\n",
       "      <td>(978.13,934.44)</td>\n",
       "      <td>Walking Areas</td>\n",
       "      <td>1063.107969</td>\n",
       "      <td>NaN</td>\n",
       "    </tr>\n",
       "  </tbody>\n",
       "</table>\n",
       "</div>"
      ],
      "text/plain": [
       "   message_id  from       to     creation_time  host_location      section  \\\n",
       "M1        NaN   SM1      0.0    (1555.00,0.00)         U-Bahn          NaN   \n",
       "M4        NaN  SN85      3.0    (1555.00,0.00)         U-Bahn          NaN   \n",
       "M6        NaN  MB38      5.0   (245.94,730.27)  Walking Areas          NaN   \n",
       "M6       MB38  MB35  37070.1  (1036.26,803.70)  Walking Areas   819.321574   \n",
       "M6       MB38  SB27  39044.6   (978.13,934.44)  Walking Areas  1063.107969   \n",
       "\n",
       "    distance  \n",
       "M1       NaN  \n",
       "M4       NaN  \n",
       "M6       NaN  \n",
       "M6       NaN  \n",
       "M6       NaN  "
      ]
     },
     "execution_count": 8,
     "metadata": {},
     "output_type": "execute_result"
    }
   ],
   "source": [
    "df.head()"
   ]
  },
  {
   "cell_type": "code",
   "execution_count": 9,
   "metadata": {},
   "outputs": [
    {
     "name": "stdout",
     "output_type": "stream",
     "text": [
      "message_id|from|to|creation_time|host_location|section|distance\n",
      "M1||SM1|0.0000|(1555.00,0.00)|U-Bahn||\n",
      "M4||SN85|3.0000|(1555.00,0.00)|U-Bahn||\n",
      "M6||MB38|5.0000|(245.94,730.27)|Walking Areas||\n",
      "M6|MB38|MB35|37070.1000|(1036.26,803.70)|Walking Areas|819.321574300453\n",
      "M6|MB38|SB27|39044.6000|(978.13,934.44)|Walking Areas|1063.107968905614\n",
      "M6|MB38|MB37|60751.6000|(1008.54,838.67)|Walking Areas|143.40394979344023\n",
      "M6|MB38|SB32|66902.8000|(1127.39,1184.38)|Walking Areas|677.5349568056224\n",
      "M1|SM1|SM14|83266.5000|(865.00,820.00)|Table 13|1030.5590521404517\n",
      "M1|SM1|SM21|124958.9000|(865.00,820.00)|Table 13|459.04963011162414\n",
      "M6|SB27|SB31|170775.4000|(1285.37,499.80)|Walking Areas|697.7845006602955\n",
      "M6|SB27|MB34|172602.1000|(1395.68,295.33)|Walking Areas|784.111756663736\n",
      "M1|SM1|SM17|184932.3000|(670.00,980.00)|Class 21|1320.4639336233308\n",
      "M6|SB32|SB28|212375.9000|(1364.41,353.29)|Walking Areas|347.0490083363555\n",
      "M6|SB27|MB36|214201.8000|(758.75,748.75)|Walking Areas|131.3960170268744\n",
      "M1|SM14|SM12|237915.2000|(1047.24,1104.48)|Class 15|857.768298438284\n",
      "M6|SB27|SB29|245313.1000|(465.00,725.00)|Table 2|1321.8434317669921\n",
      "M6|SB27|SB26|260981.8000|(1170.05,713.57)|Walking Areas|984.2327508907451\n",
      "M1|SM14|SM23|307192.1000|(1060.00,1095.00)|Class 15|1011.8514722984337\n",
      "M6|SB27|SB30|307354.3000|(1400.76,285.91)|Walking Areas|126.49120374596589\n",
      "M6|MB38|SB33|316186.4000|(1398.69,289.75)|Walking Areas|1229.0265503823478\n",
      "M1|SM21|SM24|345712.2000|(790.00,645.00)|Class 11|217.74410820551384\n",
      "M4|SN85|SN81|376801.7000|(855.00,860.00)|Table 18|987.9524280045067\n",
      "M1|SM23|SM3|479241.6000|(1174.94,704.51)|Walking Areas|160.4912706837841\n",
      "M1|SM23|SM18|485043.6000|(865.00,820.00)|Table 13|756.4515359354277\n",
      "M1|SM17|SM22|489560.3000|(1305.18,463.08)|Walking Areas|239.4583770599002\n"
     ]
    }
   ],
   "source": [
    "!cat ../reports/Assignment-1/seed0_CovidTransmissionReport.txt\n"
   ]
  },
  {
   "cell_type": "code",
   "execution_count": null,
   "metadata": {},
   "outputs": [],
   "source": []
  }
 ],
 "metadata": {
  "kernelspec": {
   "display_name": "Python 3",
   "language": "python",
   "name": "python3"
  },
  "language_info": {
   "codemirror_mode": {
    "name": "ipython",
    "version": 3
   },
   "file_extension": ".py",
   "mimetype": "text/x-python",
   "name": "python",
   "nbconvert_exporter": "python",
   "pygments_lexer": "ipython3",
   "version": "3.8.3"
  }
 },
 "nbformat": 4,
 "nbformat_minor": 4
}
